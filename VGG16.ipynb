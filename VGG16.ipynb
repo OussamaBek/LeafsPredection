{
 "cells": [
  {
   "cell_type": "code",
   "execution_count": 1,
   "metadata": {
    "colab": {
     "base_uri": "https://localhost:8080/"
    },
    "id": "DzULstleVsSA",
    "outputId": "39175cc8-232c-4f5f-ad60-ca462b87d330"
   },
   "outputs": [
    {
     "name": "stdout",
     "output_type": "stream",
     "text": [
      "WARNING:tensorflow:From C:\\ProgramData\\anaconda3\\Lib\\site-packages\\keras\\src\\losses.py:2976: The name tf.losses.sparse_softmax_cross_entropy is deprecated. Please use tf.compat.v1.losses.sparse_softmax_cross_entropy instead.\n",
      "\n"
     ]
    }
   ],
   "source": [
    "import os\n",
    "from keras.preprocessing.image import load_img, img_to_array\n",
    "from keras.applications.vgg16 import preprocess_input\n",
    "import numpy as np\n",
    "from keras.models import model_from_json\n",
    "import tkinter as tk\n",
    "from tkinter import filedialog\n",
    "from tkinter import *\n",
    "from PIL import ImageTk, Image\n",
    "import numpy\n",
    "import cv2"
   ]
  },
  {
   "cell_type": "code",
   "execution_count": 2,
   "metadata": {
    "colab": {
     "base_uri": "https://localhost:8080/"
    },
    "id": "2KY17A_TVvCD",
    "outputId": "2cb33023-4b33-4646-bf2a-94f383f9deba"
   },
   "outputs": [
    {
     "name": "stdout",
     "output_type": "stream",
     "text": [
      "WARNING:tensorflow:From C:\\ProgramData\\anaconda3\\Lib\\site-packages\\keras\\src\\backend.py:1398: The name tf.executing_eagerly_outside_functions is deprecated. Please use tf.compat.v1.executing_eagerly_outside_functions instead.\n",
      "\n",
      "WARNING:tensorflow:From C:\\ProgramData\\anaconda3\\Lib\\site-packages\\keras\\src\\layers\\pooling\\max_pooling2d.py:161: The name tf.nn.max_pool is deprecated. Please use tf.nn.max_pool2d instead.\n",
      "\n",
      "Loaded model from disk\n"
     ]
    }
   ],
   "source": [
    "# load json and create model\n",
    "json_file = open('model.json', 'r')\n",
    "loaded_model_json = json_file.read()\n",
    "json_file.close()\n",
    "loaded_model = model_from_json(loaded_model_json)\n",
    "# load weights into new model\n",
    "loaded_model.load_weights(\"model.h5\")\n",
    "print(\"Loaded model from disk\")"
   ]
  },
  {
   "cell_type": "code",
   "execution_count": 3,
   "metadata": {
    "id": "f95vaRCZV7GU"
   },
   "outputs": [],
   "source": [
    "\n",
    "def Predict_img(path):\n",
    "    img = load_img(path)  # Charger l'image\n",
    "    img = img_to_array(img)  # Convertir en tableau numpy\n",
    "    img = img.reshape((1, img.shape[0], img.shape[1], img.shape[2]))  # Créer la collection d'images (un seul échantillon)\n",
    "    img = preprocess_input(img)  # Prétraiter l'image comme le veut VGG-16\n",
    "    y = loaded_model.predict(img)  # Prédir la classe de l'image (parmi les 38 classes d'ImageNet)\n",
    "  # from keras.applications.vgg16 import decode_predictions\n",
    "  # print('Top 3 :', decode_predictions(y, model,top=3)[0])\n",
    "    prediction = np.argmax(y[0])\n",
    "  #on a la prédiction c'est un indexe on doit extrait la liste des label utilisant os \n",
    "    ldir=os.listdir('valid')\n",
    "  #os extrait les noms de fichier non triée on utilise la méthode sort pour les triée \n",
    "    ldir.sort()\n",
    "  #Affichage de notre prédiction \n",
    "    return ldir[prediction]"
   ]
  },
  {
   "cell_type": "code",
   "execution_count": 5,
   "metadata": {
    "id": "q6gPE5ZCWANp"
   },
   "outputs": [
    {
     "name": "stdout",
     "output_type": "stream",
     "text": [
      "1/1 [==============================] - 0s 414ms/step\n"
     ]
    },
    {
     "data": {
      "text/plain": [
       "'Background_without_leaves'"
      ]
     },
     "execution_count": 5,
     "metadata": {},
     "output_type": "execute_result"
    }
   ],
   "source": [
    "Predict_img('valid/Blueberry___healthy/image (961).JPG')"
   ]
  },
  {
   "cell_type": "code",
   "execution_count": 6,
   "metadata": {},
   "outputs": [
    {
     "name": "stderr",
     "output_type": "stream",
     "text": [
      "C:\\Users\\oouss\\AppData\\Local\\Temp\\ipykernel_8336\\1809964184.py:16: DeprecationWarning: ANTIALIAS is deprecated and will be removed in Pillow 10 (2023-07-01). Use LANCZOS or Resampling.LANCZOS instead.\n",
      "  bard = Image.open(\"Logo-umi.png\").resize((100, 45), Image.ANTIALIAS)\n"
     ]
    },
    {
     "name": "stdout",
     "output_type": "stream",
     "text": [
      "1/1 [==============================] - 0s 130ms/step\n",
      "Tomato___Leaf_Mold\n",
      "1/1 [==============================] - 0s 123ms/step\n",
      "Tomato___Leaf_Mold\n",
      "1/1 [==============================] - 0s 132ms/step\n",
      "Tomato___Leaf_Mold\n",
      "1/1 [==============================] - 0s 142ms/step\n",
      "Tomato___Leaf_Mold\n",
      "1/1 [==============================] - 0s 131ms/step\n",
      "Squash___Powdery_mildew\n",
      "1/1 [==============================] - 0s 131ms/step\n",
      "Squash___Powdery_mildew\n",
      "1/1 [==============================] - 0s 136ms/step\n",
      "Squash___Powdery_mildew\n",
      "1/1 [==============================] - 0s 130ms/step\n",
      "Background_without_leaves\n",
      "1/1 [==============================] - 0s 130ms/step\n",
      "Background_without_leaves\n",
      "1/1 [==============================] - 0s 129ms/step\n",
      "Background_without_leaves\n",
      "1/1 [==============================] - 0s 134ms/step\n",
      "Background_without_leaves\n",
      "1/1 [==============================] - 0s 122ms/step\n",
      "Cherry___Powdery_mildew\n",
      "1/1 [==============================] - 0s 127ms/step\n",
      "Cherry___Powdery_mildew\n",
      "1/1 [==============================] - 0s 122ms/step\n",
      "Cherry___Powdery_mildew\n",
      "1/1 [==============================] - 0s 153ms/step\n",
      "Tomato___Leaf_Mold\n",
      "1/1 [==============================] - 0s 141ms/step\n",
      "Grape___Black_rot\n",
      "1/1 [==============================] - 0s 135ms/step\n",
      "Squash___Powdery_mildew\n",
      "1/1 [==============================] - 0s 142ms/step\n",
      "Apple___Black_rot\n",
      "1/1 [==============================] - 0s 133ms/step\n",
      "Apple___Black_rot\n",
      "1/1 [==============================] - 0s 130ms/step\n",
      "Apple___Black_rot\n"
     ]
    }
   ],
   "source": [
    "#load the trained model to classify the images\n",
    "\n",
    "\n",
    "#initialise GUI\n",
    "\n",
    "top=tk.Tk()\n",
    "top.geometry('700x500')\n",
    "top.title('Prédiction Deep Learning ')\n",
    "top.configure(background='#CDCDCD')\n",
    "label=Label(top,background='#CDCDCD', font=('Book Antiqua',15,'bold','underline','italic'))\n",
    "sign_image = Label(top)\n",
    "\n",
    "\n",
    "# Setting icon of master window\n",
    "top.wm_iconbitmap(\"Logo-umi.png\")\n",
    "bard = Image.open(\"Logo-umi.png\").resize((100, 45), Image.ANTIALIAS)\n",
    "bardejov = ImageTk.PhotoImage(bard)\n",
    "label1 = Label(top, image=bardejov)\n",
    "label1.image = bardejov\n",
    "label1.place(x=10, y=10)\n",
    "\n",
    "def predire(file_path):   \n",
    "    img = cv2.imread(file_path)\n",
    "    sign = Predict_img(file_path)\n",
    "    print(sign)\n",
    "    label.configure(foreground='black', text=sign) \n",
    "\n",
    "def button_prediction(file):\n",
    "    pred_but=Button(top,text=\"Prédire L'image\",\n",
    "   command=lambda: predire(file),padx=10,pady=5)\n",
    "    pred_but.configure(background='#2748DB', foreground='orange',\n",
    "    font=('Book Antiqua',10,'bold','underline'))\n",
    "    pred_but.place(relx=0.41,rely=0.73)\n",
    "\n",
    "def upload_image():\n",
    "    try:\n",
    "        file=filedialog.askopenfilename()\n",
    "        uploaded_Image=Image.open(file)\n",
    "        uploaded_Image.thumbnail(((top.winfo_width()/2.25),(top.winfo_height()/2.25)))\n",
    "        img=ImageTk.PhotoImage(uploaded_Image)\n",
    "        sign_image.configure(image=img)\n",
    "        sign_image.image=img\n",
    "        button_prediction(file)\n",
    "    except:\n",
    "        pass\n",
    "\n",
    "upload=Button(top,text=\"Upload an image\",command=upload_image,\n",
    "  padx=10,pady=5)\n",
    "\n",
    "upload.configure(background='#2748DB', foreground='orange',\n",
    "    font=('Book Antiqua',10,'bold','underline'))\n",
    "upload.pack(side=BOTTOM,pady=50)\n",
    "sign_image.pack(side=BOTTOM,expand=True)\n",
    "label.pack(side=BOTTOM,expand=True)\n",
    "heading = Label(top, text=\"Prédiction Deep Learning\",pady=20, font=('Book Antiqua',20,'bold','underline'))\n",
    "heading.configure(background='#CDCDCD',foreground='#2748DB')\n",
    "heading.pack()\n",
    "top.mainloop() "
   ]
  },
  {
   "cell_type": "code",
   "execution_count": null,
   "metadata": {},
   "outputs": [],
   "source": []
  }
 ],
 "metadata": {
  "accelerator": "GPU",
  "colab": {
   "collapsed_sections": [],
   "name": "Untitled1.ipynb",
   "provenance": []
  },
  "kernelspec": {
   "display_name": "Python 3 (ipykernel)",
   "language": "python",
   "name": "python3"
  },
  "language_info": {
   "codemirror_mode": {
    "name": "ipython",
    "version": 3
   },
   "file_extension": ".py",
   "mimetype": "text/x-python",
   "name": "python",
   "nbconvert_exporter": "python",
   "pygments_lexer": "ipython3",
   "version": "3.11.5"
  }
 },
 "nbformat": 4,
 "nbformat_minor": 1
}
