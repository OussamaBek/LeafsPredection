{
 "cells": [
  {
   "cell_type": "code",
   "execution_count": 21,
   "metadata": {
    "colab": {
     "base_uri": "https://localhost:8080/"
    },
    "id": "DUUxtOEU5paV",
    "outputId": "9cb34be5-716e-484c-996c-30388c8a7097"
   },
   "outputs": [
    {
     "name": "stdout",
     "output_type": "stream",
     "text": [
      "2.4.0\n"
     ]
    }
   ],
   "source": [
    "\n",
    "import tensorflow as tf\n",
    "print(tf.__version__)"
   ]
  },
  {
   "cell_type": "code",
   "execution_count": 1,
   "metadata": {
    "colab": {
     "base_uri": "https://localhost:8080/"
    },
    "id": "DzULstleVsSA",
    "outputId": "cdddf759-ce86-4ae1-f71d-8dfe7f5318ae"
   },
   "outputs": [
    {
     "name": "stdout",
     "output_type": "stream",
     "text": [
      "Collecting opencv-python==4.4.0.46\n",
      "\u001b[?25l  Downloading https://files.pythonhosted.org/packages/6d/80/10a9ae6fa0940f25af32739d1dc6dfdbbdc79af3f04c5ea1a6de4303cd54/opencv_python-4.4.0.46-cp36-cp36m-manylinux2014_x86_64.whl (49.5MB)\n",
      "\u001b[K     |████████████████████████████████| 49.5MB 65kB/s \n",
      "\u001b[?25hCollecting opencv-contrib-python==4.4.0.40\n",
      "\u001b[?25l  Downloading https://files.pythonhosted.org/packages/c0/6e/9091dc9330bafb68f04ff74e2ddf6f8926e3afb8840f3f0b2125b94dade1/opencv_contrib_python-4.4.0.40-cp36-cp36m-manylinux2014_x86_64.whl (55.6MB)\n",
      "\u001b[K     |████████████████████████████████| 55.6MB 58kB/s \n",
      "\u001b[?25hRequirement already satisfied: numpy>=1.13.3 in /usr/local/lib/python3.6/dist-packages (from opencv-python==4.4.0.46) (1.19.4)\n",
      "\u001b[31mERROR: albumentations 0.1.12 has requirement imgaug<0.2.7,>=0.2.5, but you'll have imgaug 0.2.9 which is incompatible.\u001b[0m\n",
      "Installing collected packages: opencv-python, opencv-contrib-python\n",
      "  Found existing installation: opencv-python 4.1.2.30\n",
      "    Uninstalling opencv-python-4.1.2.30:\n",
      "      Successfully uninstalled opencv-python-4.1.2.30\n",
      "  Found existing installation: opencv-contrib-python 4.1.2.30\n",
      "    Uninstalling opencv-contrib-python-4.1.2.30:\n",
      "      Successfully uninstalled opencv-contrib-python-4.1.2.30\n",
      "Successfully installed opencv-contrib-python-4.4.0.40 opencv-python-4.4.0.46\n"
     ]
    }
   ],
   "source": [
    "pip install opencv-python==4.4.0.46 opencv-contrib-python==4.4.0.40"
   ]
  },
  {
   "cell_type": "code",
   "execution_count": 2,
   "metadata": {
    "colab": {
     "base_uri": "https://localhost:8080/"
    },
    "id": "2KY17A_TVvCD",
    "outputId": "7b66baa8-1b61-40c3-c368-42bff993c857"
   },
   "outputs": [
    {
     "name": "stdout",
     "output_type": "stream",
     "text": [
      "Downloading...\n",
      "From: https://drive.google.com/uc?id=1qAD7StpMovQM2u8g6kgf9CysYs-vZ-P-\n",
      "To: /content/datasetProjetS5_2020.zip\n",
      "864MB [00:06, 135MB/s]\n"
     ]
    }
   ],
   "source": [
    "file_id=\"1qAD7StpMovQM2u8g6kgf9CysYs-vZ-P-\"\n",
    "!gdown https://drive.google.com/uc?id={file_id}"
   ]
  },
  {
   "cell_type": "code",
   "execution_count": 3,
   "metadata": {
    "id": "f95vaRCZV7GU"
   },
   "outputs": [],
   "source": [
    "!unzip -q datasetProjetS5_2020.zip"
   ]
  },
  {
   "cell_type": "code",
   "execution_count": 3,
   "metadata": {
    "id": "zJQCJBLgmtcJ"
   },
   "outputs": [],
   "source": []
  },
  {
   "cell_type": "code",
   "execution_count": 4,
   "metadata": {
    "id": "q6gPE5ZCWANp"
   },
   "outputs": [],
   "source": [
    "rm -r ./datasetProjetS5_2020/train/Background_without_leaves/"
   ]
  },
  {
   "cell_type": "code",
   "execution_count": 5,
   "metadata": {
    "id": "sFYesjktWC28"
   },
   "outputs": [],
   "source": [
    "rm -r ./datasetProjetS5_2020/test/Background_without_leaves/"
   ]
  },
  {
   "cell_type": "code",
   "execution_count": 6,
   "metadata": {
    "id": "QGJK9SM-WFIS"
   },
   "outputs": [],
   "source": [
    "rm -r ./datasetProjetS5_2020/valid/Background_without_leaves/"
   ]
  },
  {
   "cell_type": "code",
   "execution_count": 7,
   "metadata": {
    "id": "4a59IMxM2ZV5"
   },
   "outputs": [],
   "source": [
    "from keras.models import Sequential\n",
    "from keras.layers import Flatten, Dense\n",
    "from keras.layers import Conv2D, MaxPooling2D, Activation, Dropout\n",
    "from tensorflow.keras.applications import vgg16\n",
    "from keras.preprocessing.image import ImageDataGenerator\n",
    "import keras.optimizers as optimizers\n",
    "import matplotlib.pyplot as plt\n",
    "import numpy as np\n",
    "import os\n",
    "import cv2"
   ]
  },
  {
   "cell_type": "code",
   "execution_count": 8,
   "metadata": {
    "colab": {
     "base_uri": "https://localhost:8080/"
    },
    "id": "Hwq7qLZ6WHDc",
    "outputId": "3868a6ee-ee51-4e54-cabe-c96af6918021"
   },
   "outputs": [
    {
     "name": "stdout",
     "output_type": "stream",
     "text": [
      "Downloading data from https://storage.googleapis.com/tensorflow/keras-applications/vgg16/vgg16_weights_tf_dim_ordering_tf_kernels_notop.h5\n",
      "58892288/58889256 [==============================] - 0s 0us/step\n",
      "<tensorflow.python.keras.engine.input_layer.InputLayer object at 0x7f3f12ad1208> False\n",
      "<tensorflow.python.keras.layers.convolutional.Conv2D object at 0x7f3f00b80668> False\n",
      "<tensorflow.python.keras.layers.convolutional.Conv2D object at 0x7f3f0035a400> False\n",
      "<tensorflow.python.keras.layers.pooling.MaxPooling2D object at 0x7f3f003079e8> False\n",
      "<tensorflow.python.keras.layers.convolutional.Conv2D object at 0x7f3f0030ea90> False\n",
      "<tensorflow.python.keras.layers.convolutional.Conv2D object at 0x7f3f003148d0> False\n",
      "<tensorflow.python.keras.layers.pooling.MaxPooling2D object at 0x7f3f00314358> False\n",
      "<tensorflow.python.keras.layers.convolutional.Conv2D object at 0x7f3f0031cd30> False\n",
      "<tensorflow.python.keras.layers.convolutional.Conv2D object at 0x7f3ef009af60> False\n",
      "<tensorflow.python.keras.layers.convolutional.Conv2D object at 0x7f3ef009aba8> False\n",
      "<tensorflow.python.keras.layers.pooling.MaxPooling2D object at 0x7f3ef009e320> False\n",
      "<tensorflow.python.keras.layers.convolutional.Conv2D object at 0x7f3ef00a7ac8> False\n",
      "<tensorflow.python.keras.layers.convolutional.Conv2D object at 0x7f3ef00a7240> False\n",
      "<tensorflow.python.keras.layers.convolutional.Conv2D object at 0x7f3ef009ae80> False\n",
      "<tensorflow.python.keras.layers.pooling.MaxPooling2D object at 0x7f3f0035a358> False\n",
      "<tensorflow.python.keras.layers.convolutional.Conv2D object at 0x7f3ef00b3160> False\n",
      "<tensorflow.python.keras.layers.convolutional.Conv2D object at 0x7f3ef00ac518> False\n",
      "<tensorflow.python.keras.layers.convolutional.Conv2D object at 0x7f3f0031cdd8> False\n",
      "<tensorflow.python.keras.layers.pooling.MaxPooling2D object at 0x7f3ef00b8da0> False\n",
      "Model: \"sequential\"\n",
      "_________________________________________________________________\n",
      "Layer (type)                 Output Shape              Param #   \n",
      "=================================================================\n",
      "vgg16 (Functional)           (None, 8, 8, 512)         14714688  \n",
      "_________________________________________________________________\n",
      "flatten (Flatten)            (None, 32768)             0         \n",
      "_________________________________________________________________\n",
      "dense (Dense)                (None, 1024)              33555456  \n",
      "_________________________________________________________________\n",
      "dropout (Dropout)            (None, 1024)              0         \n",
      "_________________________________________________________________\n",
      "dense_1 (Dense)              (None, 38)                38950     \n",
      "=================================================================\n",
      "Total params: 48,309,094\n",
      "Trainable params: 33,594,406\n",
      "Non-trainable params: 14,714,688\n",
      "_________________________________________________________________\n"
     ]
    }
   ],
   "source": [
    "image_size=256\n",
    "# Initialise le modele VGG16\n",
    "vgg_conv = vgg16.VGG16(weights='imagenet', include_top=False, input_shape=(image_size, image_size, 3))\n",
    "# desactive le train de toutes les couches\n",
    "for layer in vgg_conv.layers[:]:\n",
    "    layer.trainable = False\n",
    "\n",
    "# Vérifie le status trainable de chaque couche individuelle\n",
    "for layer in vgg_conv.layers:\n",
    "    print(layer, layer.trainable)\n",
    "# Crée le modele\n",
    "model = Sequential()\n",
    "\n",
    "# Ajout de la couche préinitialisé au model\n",
    "model.add(vgg_conv)\n",
    "\n",
    "# Ajout des autres couches final pour diminuer le nombre de choix et le temps de calcul\n",
    "model.add(Flatten())\n",
    "model.add(Dense(1024, activation='relu'))\n",
    "model.add(Dropout(0.5))\n",
    "model.add(Dense(38, activation='softmax'))\n",
    "\n",
    "# Afficher un résumé sur le modele. Vérifier le nombre de param trainable\n",
    "model.summary()"
   ]
  },
  {
   "cell_type": "code",
   "execution_count": 9,
   "metadata": {
    "colab": {
     "base_uri": "https://localhost:8080/"
    },
    "id": "oeXOe6PwWMbc",
    "outputId": "301ea0e8-28a7-47e4-cdb5-c683749879e1"
   },
   "outputs": [
    {
     "name": "stdout",
     "output_type": "stream",
     "text": [
      "Found 35249 images belonging to 38 classes.\n",
      "Found 10770 images belonging to 38 classes.\n"
     ]
    }
   ],
   "source": [
    "# Charge les images normalisées\n",
    "train_datagen = ImageDataGenerator(rescale=1./255)\n",
    "test_datagen = ImageDataGenerator(rescale=1./255)\n",
    "\n",
    "# Change le batchsize celon la capacité de la RAM\n",
    "train_batchsize = 100\n",
    "val_batchsize = 10\n",
    "\n",
    "# Charge les images pour le train\n",
    "train_generator = train_datagen.flow_from_directory(\n",
    "        \"./datasetProjetS5_2020/train\",\n",
    "        target_size=(image_size, image_size),\n",
    "        batch_size=train_batchsize,\n",
    "        class_mode='categorical')\n",
    "\n",
    "# Charge les images pour le test\n",
    "test_generator = test_datagen.flow_from_directory(\n",
    "        \"./datasetProjetS5_2020/test\",\n",
    "        target_size=(image_size, image_size),\n",
    "        batch_size=val_batchsize,\n",
    "        class_mode='categorical',\n",
    "        shuffle=False)"
   ]
  },
  {
   "cell_type": "code",
   "execution_count": 10,
   "metadata": {
    "colab": {
     "base_uri": "https://localhost:8080/"
    },
    "id": "PQi0eJUMWbrr",
    "outputId": "70abe16b-7ce3-4825-9c0b-7b3b2a96863f"
   },
   "outputs": [
    {
     "name": "stdout",
     "output_type": "stream",
     "text": [
      "Epoch 1/17\n",
      "352/352 [==============================] - 258s 701ms/step - loss: 1.5740 - acc: 0.6086 - val_loss: 0.3502 - val_acc: 0.8925\n",
      "Epoch 2/17\n",
      "352/352 [==============================] - 260s 737ms/step - loss: 0.3573 - acc: 0.8869 - val_loss: 0.2596 - val_acc: 0.9216\n",
      "Epoch 3/17\n",
      "352/352 [==============================] - 260s 739ms/step - loss: 0.2258 - acc: 0.9277 - val_loss: 0.1782 - val_acc: 0.9433\n",
      "Epoch 4/17\n",
      "352/352 [==============================] - 261s 740ms/step - loss: 0.1686 - acc: 0.9468 - val_loss: 0.1996 - val_acc: 0.9374\n",
      "Epoch 5/17\n",
      "352/352 [==============================] - 260s 739ms/step - loss: 0.1278 - acc: 0.9583 - val_loss: 0.1722 - val_acc: 0.9422\n",
      "Epoch 6/17\n",
      "352/352 [==============================] - 260s 738ms/step - loss: 0.1044 - acc: 0.9651 - val_loss: 0.1299 - val_acc: 0.9579\n",
      "Epoch 7/17\n",
      "352/352 [==============================] - 261s 739ms/step - loss: 0.0818 - acc: 0.9726 - val_loss: 0.1212 - val_acc: 0.9607\n",
      "Epoch 8/17\n",
      "352/352 [==============================] - 260s 739ms/step - loss: 0.0685 - acc: 0.9775 - val_loss: 0.1262 - val_acc: 0.9598\n",
      "Epoch 9/17\n",
      "352/352 [==============================] - 260s 738ms/step - loss: 0.0551 - acc: 0.9819 - val_loss: 0.1387 - val_acc: 0.9570\n",
      "Epoch 10/17\n",
      "352/352 [==============================] - 260s 738ms/step - loss: 0.0567 - acc: 0.9813 - val_loss: 0.1470 - val_acc: 0.9556\n",
      "Epoch 11/17\n",
      "352/352 [==============================] - 260s 739ms/step - loss: 0.0430 - acc: 0.9855 - val_loss: 0.1290 - val_acc: 0.9613\n",
      "Epoch 12/17\n",
      "352/352 [==============================] - 259s 736ms/step - loss: 0.0390 - acc: 0.9875 - val_loss: 0.1220 - val_acc: 0.9629\n",
      "Epoch 13/17\n",
      "352/352 [==============================] - 260s 737ms/step - loss: 0.0381 - acc: 0.9871 - val_loss: 0.1208 - val_acc: 0.9650\n",
      "Epoch 14/17\n",
      "352/352 [==============================] - 259s 736ms/step - loss: 0.0325 - acc: 0.9893 - val_loss: 0.1201 - val_acc: 0.9663\n",
      "Epoch 15/17\n",
      "352/352 [==============================] - 259s 736ms/step - loss: 0.0276 - acc: 0.9912 - val_loss: 0.1320 - val_acc: 0.9618\n",
      "Epoch 16/17\n",
      "352/352 [==============================] - 259s 735ms/step - loss: 0.0270 - acc: 0.9911 - val_loss: 0.1263 - val_acc: 0.9636\n",
      "Epoch 17/17\n",
      "352/352 [==============================] - 260s 737ms/step - loss: 0.0254 - acc: 0.9916 - val_loss: 0.1334 - val_acc: 0.9617\n"
     ]
    }
   ],
   "source": [
    "\n",
    "# Compile et Configure le modele pour le training\n",
    "model.compile(loss='categorical_crossentropy',\n",
    "              optimizer=optimizers.RMSprop(lr=1e-4),\n",
    "              metrics=['acc'])\n",
    "\n",
    "# Entraine le modele\n",
    "hist = model.fit(\n",
    "      train_generator,\n",
    "      steps_per_epoch=\n",
    "         train_generator.samples/train_generator.batch_size,\n",
    "      epochs=17,\n",
    "      validation_data=test_generator, \n",
    "      validation_steps=\n",
    "         test_generator.samples/test_generator.batch_size,\n",
    "      verbose=1)"
   ]
  },
  {
   "cell_type": "code",
   "execution_count": 11,
   "metadata": {
    "colab": {
     "base_uri": "https://localhost:8080/",
     "height": 545
    },
    "id": "2wyfeSUhWf7d",
    "outputId": "92f5cefd-875e-4248-f5a3-722acabd96a1"
   },
   "outputs": [
    {
     "data": {
      "image/png": "[encoded data removed]",
      "text/plain": [
       "<Figure size 432x288 with 1 Axes>"
      ]
     },
     "metadata": {
      "needs_background": "light",
      "tags": []
     },
     "output_type": "display_data"
    },
    {
     "data": {
      "image/png": "[encoded data removed]",
      "text/plain": [
       "<Figure size 432x288 with 1 Axes>"
      ]
     },
     "metadata": {
      "needs_background": "light",
      "tags": []
     },
     "output_type": "display_data"
    }
   ],
   "source": [
    "\n",
    "# fonction pour afficher la courbe du resultat du modele\n",
    "def histogram_results(history):\n",
    "    acc = history.history['acc']\n",
    "    val_acc = history.history['val_acc']\n",
    "    loss = history.history['loss']\n",
    "    val_loss = history.history['val_loss']\n",
    "\n",
    "    epochs = range(len(acc))\n",
    "\n",
    "    plt.plot(epochs, acc, 'g', label='Precision du Training')\n",
    "    plt.plot(epochs, val_acc, 'r', label='Precision du Test')\n",
    "    plt.title('Precision du training et du Test')\n",
    "    plt.legend()\n",
    "\n",
    "    plt.figure()\n",
    "\n",
    "    plt.plot(epochs, loss, 'g', label='Perte du Training')\n",
    "    plt.plot(epochs, val_loss, 'r', label='Perte du Test')\n",
    "    plt.title('Perte du training et du Test')\n",
    "    plt.legend()\n",
    "\n",
    "    plt.show()\n",
    "\n",
    "\n",
    "# Lancemant de la fonction d'affichage de la courbe\n",
    "histogram_results(hist)"
   ]
  },
  {
   "cell_type": "code",
   "execution_count": 12,
   "metadata": {
    "id": "cCZvc_K3WkGe"
   },
   "outputs": [],
   "source": [
    "# Fonction pour le calcul des erreurs et de la liste des classes\n",
    "def acc(test_generator, predictions):\n",
    "    ground_truth = test_generator.classes\n",
    "\n",
    "    label2index = test_generator.class_indices\n",
    "\n",
    "    idx2label = list(label2index.keys())\n",
    "\n",
    "    predicted_classes = np.argmax(predictions, axis=1)\n",
    "\n",
    "    errors = np.where(predicted_classes != ground_truth)[0]\n",
    "    print(\"Nombre d'erreurs = {}/{}\".format(len(errors),test_generator.samples))\n",
    "    print(\"Score = {}%\".format((1- len(errors)/test_generator.samples)*100))\n"
   ]
  },
  {
   "cell_type": "code",
   "execution_count": 13,
   "metadata": {
    "colab": {
     "base_uri": "https://localhost:8080/"
    },
    "id": "929eALxZWo4T",
    "outputId": "b99f1174-7693-4d88-f996-49e88053acb9"
   },
   "outputs": [
    {
     "name": "stdout",
     "output_type": "stream",
     "text": [
      "1077/1077 [==============================] - 71s 66ms/step\n",
      "Nombre d'erreurs = 413/10770\n",
      "Score = 96.1652739090065%\n"
     ]
    }
   ],
   "source": [
    "\n",
    "# Calcule les prediction depuis le model en utilisant le generateur\n",
    "predictions = model.predict(test_generator, steps=test_generator.samples/test_generator.batch_size,verbose=1)\n",
    "\n",
    "# Lancemant de la fonction pour avoir la liste des classes et des erreurs\n",
    "acc(test_generator, predictions)\n"
   ]
  },
  {
   "cell_type": "code",
   "execution_count": 14,
   "metadata": {
    "colab": {
     "base_uri": "https://localhost:8080/"
    },
    "id": "UHZ20YXwqsXx",
    "outputId": "90214333-2f33-40a2-cf84-5fb8d951fe39"
   },
   "outputs": [
    {
     "name": "stderr",
     "output_type": "stream",
     "text": [
      "/usr/local/lib/python3.6/dist-packages/tensorflow/python/keras/engine/training.py:1877: UserWarning: `Model.evaluate_generator` is deprecated and will be removed in a future version. Please use `Model.evaluate`, which supports generators.\n",
      "  warnings.warn('`Model.evaluate_generator` is deprecated and '\n"
     ]
    }
   ],
   "source": [
    "test_loss, test_acc = model.evaluate_generator(test_generator, steps=test_generator.samples//test_generator.batch_size)"
   ]
  },
  {
   "cell_type": "code",
   "execution_count": 15,
   "metadata": {
    "colab": {
     "base_uri": "https://localhost:8080/"
    },
    "id": "lDHsI8mkPGyQ",
    "outputId": "2e898e9c-af82-4081-bdfe-78f6f200d0c4"
   },
   "outputs": [
    {
     "data": {
      "text/plain": [
       "0.9616527557373047"
      ]
     },
     "execution_count": 15,
     "metadata": {
      "tags": []
     },
     "output_type": "execute_result"
    }
   ],
   "source": [
    "test_acc"
   ]
  },
  {
   "cell_type": "code",
   "execution_count": 16,
   "metadata": {
    "id": "TCaRK2DI8G1p"
   },
   "outputs": [],
   "source": [
    "import os\n",
    "from keras.preprocessing.image import load_img, img_to_array\n",
    "from keras.applications.vgg16 import preprocess_input\n",
    "def f(path):\n",
    "  img = load_img(path)  # Charger l'image\n",
    "  img = img_to_array(img)  # Convertir en tableau numpy\n",
    "  img = img.reshape((1, img.shape[0], img.shape[1], img.shape[2]))  # Créer la collection d'images (un seul échantillon)\n",
    "  img = preprocess_input(img)  # Prétraiter l'image comme le veut VGG-16\n",
    "  y = model.predict(img)  # Prédir la classe de l'image (parmi les 38 classes d'ImageNet)\n",
    "  # from keras.applications.vgg16 import decode_predictions\n",
    "  # print('Top 3 :', decode_predictions(y, model,top=3)[0])\n",
    "  prediction = np.argmax(y[0])\n",
    "  #on a la prédiction c'est un indexe on doit extrait la liste des label utilisant os \n",
    "  ldir=os.listdir('./datasetProjetS5_2020/valid')\n",
    "  #os extrait les noms de fichier non triée on utilise la méthode sort pour les triée \n",
    "  ldir.sort()\n",
    "  #Affichage de notre prédiction \n",
    "  print (ldir[prediction])"
   ]
  },
  {
   "cell_type": "code",
   "execution_count": 17,
   "metadata": {
    "colab": {
     "base_uri": "https://localhost:8080/"
    },
    "id": "dQv1oa5gL3h5",
    "outputId": "e08536ed-ea5d-4ed8-fcea-ec87f645adbc"
   },
   "outputs": [
    {
     "name": "stdout",
     "output_type": "stream",
     "text": [
      "Blueberry___healthy\n"
     ]
    }
   ],
   "source": [
    "\n",
    "f('./datasetProjetS5_2020/valid/Blueberry___healthy/image (961).JPG')\n"
   ]
  },
  {
   "cell_type": "code",
   "execution_count": 18,
   "metadata": {
    "colab": {
     "base_uri": "https://localhost:8080/"
    },
    "id": "Mx49sTkcm9Rj",
    "outputId": "4b004808-6513-49d8-a98c-c954ce359c4f"
   },
   "outputs": [
    {
     "name": "stdout",
     "output_type": "stream",
     "text": [
      "Saved model to disk\n"
     ]
    }
   ],
   "source": [
    "model_json = model.to_json()\n",
    "with open(\"model.json\", \"w\") as json_file:\n",
    "    json_file.write(model_json)\n",
    "# serialize weights to HDF5\n",
    "model.save_weights(\"model.h5\")\n",
    "print(\"Saved model to disk\")"
   ]
  },
  {
   "cell_type": "code",
   "execution_count": 19,
   "metadata": {
    "colab": {
     "base_uri": "https://localhost:8080/"
    },
    "id": "pbUBZH08kldH",
    "outputId": "1a2d5f4e-6ce5-4533-dda4-47b819be5a01"
   },
   "outputs": [
    {
     "name": "stdout",
     "output_type": "stream",
     "text": [
      "Mounted at /content/drive\n"
     ]
    }
   ],
   "source": [
    "from google.colab import drive\n",
    "drive.mount('/content/drive')"
   ]
  },
  {
   "cell_type": "code",
   "execution_count": 22,
   "metadata": {
    "colab": {
     "base_uri": "https://localhost:8080/",
     "height": 17
    },
    "id": "Rz2BvpUGj1tZ",
    "outputId": "ad26bf92-cf35-47a1-c2ee-71a39461cef1"
   },
   "outputs": [
    {
     "data": {
      "application/javascript": [
       "\n",
       "    async function download(id, filename, size) {\n",
       "      if (!google.colab.kernel.accessAllowed) {\n",
       "        return;\n",
       "      }\n",
       "      const div = document.createElement('div');\n",
       "      const label = document.createElement('label');\n",
       "      label.textContent = `Downloading \"${filename}\": `;\n",
       "      div.appendChild(label);\n",
       "      const progress = document.createElement('progress');\n",
       "      progress.max = size;\n",
       "      div.appendChild(progress);\n",
       "      document.body.appendChild(div);\n",
       "\n",
       "      const buffers = [];\n",
       "      let downloaded = 0;\n",
       "\n",
       "      const channel = await google.colab.kernel.comms.open(id);\n",
       "      // Send a message to notify the kernel that we're ready.\n",
       "      channel.send({})\n",
       "\n",
       "      for await (const message of channel.messages) {\n",
       "        // Send a message to notify the kernel that we're ready.\n",
       "        channel.send({})\n",
       "        if (message.buffers) {\n",
       "          for (const buffer of message.buffers) {\n",
       "            buffers.push(buffer);\n",
       "            downloaded += buffer.byteLength;\n",
       "            progress.value = downloaded;\n",
       "          }\n",
       "        }\n",
       "      }\n",
       "      const blob = new Blob(buffers, {type: 'application/binary'});\n",
       "      const a = document.createElement('a');\n",
       "      a.href = window.URL.createObjectURL(blob);\n",
       "      a.download = filename;\n",
       "      div.appendChild(a);\n",
       "      a.click();\n",
       "      div.remove();\n",
       "    }\n",
       "  "
      ],
      "text/plain": [
       "<IPython.core.display.Javascript object>"
      ]
     },
     "metadata": {
      "tags": []
     },
     "output_type": "display_data"
    },
    {
     "data": {
      "application/javascript": [
       "download(\"download_009729b2-acf9-4281-9cfe-00849d1af3ef\", \"model.json\", 11396)"
      ],
      "text/plain": [
       "<IPython.core.display.Javascript object>"
      ]
     },
     "metadata": {
      "tags": []
     },
     "output_type": "display_data"
    }
   ],
   "source": [
    "from google.colab import files\n",
    "files.download('model.json')"
   ]
  },
  {
   "cell_type": "code",
   "execution_count": null,
   "metadata": {
    "id": "jKNq21nkk-yH"
   },
   "outputs": [],
   "source": []
  }
 ],
 "metadata": {
  "accelerator": "GPU",
  "colab": {
   "collapsed_sections": [],
   "name": "Untitled1.ipynb",
   "provenance": []
  },
  "kernelspec": {
   "display_name": "Python 3",
   "language": "python",
   "name": "python3"
  },
  "language_info": {
   "codemirror_mode": {
    "name": "ipython",
    "version": 3
   },
   "file_extension": ".py",
   "mimetype": "text/x-python",
   "name": "python",
   "nbconvert_exporter": "python",
   "pygments_lexer": "ipython3",
   "version": "3.8.3"
  }
 },
 "nbformat": 4,
 "nbformat_minor": 1
}
