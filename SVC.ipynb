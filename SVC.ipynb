{
 "cells": [
  {
   "cell_type": "code",
   "execution_count": 1,
   "metadata": {},
   "outputs": [
    {
     "name": "stderr",
     "output_type": "stream",
     "text": [
      "C:\\ProgramData\\anaconda3\\Lib\\site-packages\\sklearn\\base.py:347: InconsistentVersionWarning: Trying to unpickle estimator SVC from version 0.23.1 when using version 1.3.0. This might lead to breaking code or invalid results. Use at your own risk. For more info please refer to:\n",
      "https://scikit-learn.org/stable/model_persistence.html#security-maintainability-limitations\n",
      "  warnings.warn(\n"
     ]
    }
   ],
   "source": [
    "from joblib import load#\n",
    "import cv2#\n",
    "import os#\n",
    "import tkinter as tk\n",
    "from tkinter import filedialog\n",
    "from tkinter import *\n",
    "from PIL import ImageTk, Image\n",
    "import numpy\n",
    "loaded_model =load('SVC.sav')"
   ]
  },
  {
   "cell_type": "code",
   "execution_count": 2,
   "metadata": {},
   "outputs": [],
   "source": [
    "extractor = cv2.xfeatures2d.SIFT_create()\n",
    "def features(image, extractor):\n",
    "    gray=cv2.cvtColor(image,cv2.COLOR_BGR2GRAY)\n",
    "    keypoints, descriptors = extractor.detectAndCompute(image, None)\n",
    "    return keypoints, descriptors \n",
    "def bagsOfFeatures(image):\n",
    "    key,des = features(image, extractor)\n",
    "    BOW = cv2.BOWKMeansTrainer(1)\n",
    "    if des is not None:\n",
    "        BOW.add(des)# bag of words de l'image\n",
    "        dictionary = BOW.cluster()\n",
    "    return dictionary\n",
    "\n",
    "def ImageToPred(image):\n",
    "    dictionary=bagsOfFeatures(image)\n",
    "    return loaded_model.predict(dictionary)"
   ]
  },
  {
   "cell_type": "code",
   "execution_count": 3,
   "metadata": {},
   "outputs": [
    {
     "name": "stdout",
     "output_type": "stream",
     "text": [
      "['Apple___Apple_scab']\n"
     ]
    }
   ],
   "source": [
    "folder=\"valid\" #dossier contenant les image du trainning\n",
    "l=os.listdir(folder)\n",
    "image_path=\"image (406).JPG\"\n",
    "img = cv2.imread(os.path.join(os.path.join(folder,l[0]),image_path))\n",
    "print(ImageToPred(img))\n"
   ]
  },
  {
   "cell_type": "code",
   "execution_count": 4,
   "metadata": {},
   "outputs": [
    {
     "name": "stderr",
     "output_type": "stream",
     "text": [
      "C:\\Users\\oouss\\AppData\\Local\\Temp\\ipykernel_10576\\4221189148.py:16: DeprecationWarning: ANTIALIAS is deprecated and will be removed in Pillow 10 (2023-07-01). Use LANCZOS or Resampling.LANCZOS instead.\n",
      "  image = Image.open(\"Logo-umi.png\").resize((100, 45), Image.ANTIALIAS)\n"
     ]
    },
    {
     "name": "stdout",
     "output_type": "stream",
     "text": [
      "Tomato___Septoria_leaf_spot\n",
      "Apple___Black_rot\n"
     ]
    }
   ],
   "source": [
    "#load the trained model to classify the images\n",
    "\n",
    "\n",
    "#initialise GUI\n",
    "\n",
    "top=tk.Tk()\n",
    "top.geometry('700x500')\n",
    "top.title('Prédiction Machine Learning ')\n",
    "top.configure(background='#CDCDCD')\n",
    "label=Label(top,background='#CDCDCD', font=('Book Antiqua',15,'bold','underline','italic'))\n",
    "sign_image = Label(top)\n",
    "\n",
    "\n",
    "# Setting icon of master window\n",
    "top.wm_iconbitmap(\"Logo-umi.png\")\n",
    "image = Image.open(\"Logo-umi.png\").resize((100, 45), Image.ANTIALIAS)\n",
    "img = ImageTk.PhotoImage(image)\n",
    "label1 = Label(top, image=img)\n",
    "label1.image = img\n",
    "label1.place(x=10, y=10)\n",
    "\n",
    "def predire(file_path):   \n",
    "    img = cv2.imread(file_path)\n",
    "    sign = ImageToPred(img)[0]\n",
    "    print(sign)\n",
    "    label.configure(foreground='black', text=sign) \n",
    "\n",
    "def button_prediction(file):\n",
    "    pred_but=Button(top,text=\"Prédire L'image\",\n",
    "   command=lambda: predire(file),padx=10,pady=5)\n",
    "    pred_but.configure(background='#2748DB', foreground='orange',\n",
    "    font=('Book Antiqua',10,'bold','underline'))\n",
    "    pred_but.place(relx=0.41,rely=0.73)\n",
    "\n",
    "def upload_image():\n",
    "    try:\n",
    "        file=filedialog.askopenfilename()\n",
    "        uploaded_Image=Image.open(file)\n",
    "        uploaded_Image.thumbnail(((top.winfo_width()/2.25),(top.winfo_height()/2.25)))\n",
    "        img=ImageTk.PhotoImage(uploaded_Image)\n",
    "        sign_image.configure(image=img)\n",
    "        sign_image.image=img\n",
    "        button_prediction(file)\n",
    "    except:\n",
    "        pass\n",
    "\n",
    "upload=Button(top,text=\"Upload an image\",command=upload_image,\n",
    "  padx=10,pady=5)\n",
    "\n",
    "upload.configure(background='#2748DB', foreground='orange',\n",
    "    font=('Book Antiqua',10,'bold','underline'))\n",
    "upload.pack(side=BOTTOM,pady=50)\n",
    "sign_image.pack(side=BOTTOM,expand=True)\n",
    "label.pack(side=BOTTOM,expand=True)\n",
    "heading = Label(top, text=\"Prédiction Machine Learning\",pady=20, font=('Book Antiqua',20,'bold','underline'))\n",
    "heading.configure(background='#CDCDCD',foreground='#2748DB')\n",
    "heading.pack()\n",
    "top.mainloop() "
   ]
  },
  {
   "cell_type": "code",
   "execution_count": null,
   "metadata": {},
   "outputs": [],
   "source": []
  }
 ],
 "metadata": {
  "kernelspec": {
   "display_name": "Python 3 (ipykernel)",
   "language": "python",
   "name": "python3"
  },
  "language_info": {
   "codemirror_mode": {
    "name": "ipython",
    "version": 3
   },
   "file_extension": ".py",
   "mimetype": "text/x-python",
   "name": "python",
   "nbconvert_exporter": "python",
   "pygments_lexer": "ipython3",
   "version": "3.11.5"
  }
 },
 "nbformat": 4,
 "nbformat_minor": 4
}
